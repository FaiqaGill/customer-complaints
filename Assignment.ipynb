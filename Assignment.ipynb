{
  "nbformat": 4,
  "nbformat_minor": 0,
  "metadata": {
    "colab": {
      "private_outputs": true,
      "provenance": [],
      "cell_execution_strategy": "setup"
    },
    "kernelspec": {
      "name": "python3",
      "display_name": "Python 3"
    },
    "language_info": {
      "name": "python"
    }
  },
  "cells": [
    {
      "cell_type": "code",
      "execution_count": null,
      "metadata": {
        "id": "Nh_aRmI8iKmd"
      },
      "outputs": [],
      "source": [
        "import pandas as pd\n",
        "!pip install pyspan\n",
        "import pyspan as ps\n",
        "import numpy as np\n",
        "import matplotlib.pyplot as plt\n",
        "import seaborn as sns\n"
      ]
    },
    {
      "cell_type": "code",
      "source": [
        "#Load the dataset\n",
        "df= pd.read_csv('/content/drive/MyDrive/Consumer Complaints Data set.csv')\n",
        "df.head()"
      ],
      "metadata": {
        "id": "OWpGgij-jUZE"
      },
      "execution_count": null,
      "outputs": []
    },
    {
      "source": [
        "# @title Complaint Volume by Day of the Week\n",
        "\n",
        "import matplotlib.pyplot as plt\n",
        "import pandas as pd\n",
        "\n",
        "day_counts = df['Day of week name'].value_counts()\n",
        "\n",
        "plt.figure(figsize=(8, 5))\n",
        "plt.bar(day_counts.index, day_counts.values)\n",
        "plt.title('Complaint Volume by Day of the Week')\n",
        "plt.xlabel('Day of the Week')\n",
        "plt.ylabel('Number of Complaints')\n",
        "_ = plt.xticks(rotation=45, ha='right')\n"
      ],
      "cell_type": "code",
      "execution_count": null,
      "outputs": [],
      "metadata": {
        "cellView": "form",
        "id": "DYe8TbEMnMmj"
      }
    },
    {
      "source": [
        "# @title Distribution of Complaints by Service--> Bivariate\n",
        "\n",
        "import matplotlib.pyplot as plt\n",
        "import pandas as pd\n",
        "\n",
        "df['Service'].value_counts().plot(kind='bar')\n",
        "plt.xlabel('Service')\n",
        "plt.ylabel('Number of Complaints')\n",
        "_ = plt.title('Distribution of Complaints by Service')"
      ],
      "cell_type": "code",
      "execution_count": null,
      "outputs": [],
      "metadata": {
        "id": "6qnuLlxymz1n"
      }
    },
    {
      "source": [
        "# @title Complaint Distribution by Company\n",
        "\n",
        "import matplotlib.pyplot as plt\n",
        "import pandas as pd\n",
        "\n",
        "company_counts = df['Company'].value_counts()\n",
        "\n",
        "plt.figure(figsize=(8, 8))\n",
        "plt.pie(company_counts, labels=company_counts.index, autopct='%1.1f%%', startangle=90)\n",
        "_ = plt.title('Complaint Distribution by Company')\n"
      ],
      "cell_type": "code",
      "execution_count": null,
      "outputs": [],
      "metadata": {
        "id": "IzqcqgQPla2D"
      }
    },
    {
      "source": [
        "# @title Timely response\n",
        "\n",
        "from matplotlib import pyplot as plt\n",
        "import seaborn as sns\n",
        "df.groupby('Timely response').size().plot(kind='barh', color=sns.palettes.mpl_palette('Dark2'))\n",
        "plt.gca().spines[['top', 'right',]].set_visible(False)"
      ],
      "cell_type": "code",
      "execution_count": null,
      "outputs": [],
      "metadata": {
        "id": "8IawICn_lIrB"
      }
    },
    {
      "source": [
        "# @title Complaint ID vs ZIP code --> Bivarate\n",
        "\n",
        "from matplotlib import pyplot as plt\n",
        "df.plot(kind='scatter', x='Complaint ID', y='ZIP code', s=32, alpha=.8)\n",
        "plt.gca().spines[['top', 'right',]].set_visible(False)"
      ],
      "cell_type": "code",
      "execution_count": null,
      "outputs": [],
      "metadata": {
        "id": "dyJHPsehdsN4"
      }
    },
    {
      "source": [
        "# @title Communicated By--> Univariate\n",
        "\n",
        "from matplotlib import pyplot as plt\n",
        "import seaborn as sns\n",
        "df.groupby('Communicated By').size().plot(kind='barh', color=sns.palettes.mpl_palette('Dark2'))\n",
        "plt.gca().spines[['top', 'right',]].set_visible(False)"
      ],
      "cell_type": "code",
      "execution_count": null,
      "outputs": [],
      "metadata": {
        "id": "uI9Jd_xUcCrJ"
      }
    },
    {
      "source": [
        "# @title ZIP code--> Univariate\n",
        "\n",
        "from matplotlib import pyplot as plt\n",
        "df['ZIP code'].plot(kind='hist', bins=20, title='ZIP code')\n",
        "plt.gca().spines[['top', 'right',]].set_visible(False)"
      ],
      "cell_type": "code",
      "execution_count": null,
      "outputs": [],
      "metadata": {
        "id": "-z-dOn-EbgXG"
      }
    },
    {
      "cell_type": "code",
      "source": [
        "# prompt: Using dataframe df: remove duplicates\n",
        "\n",
        "# Drop duplicate rows based on all columns\n",
        "df = df.drop_duplicates()\n"
      ],
      "metadata": {
        "id": "a1QZItfOuzMu"
      },
      "execution_count": null,
      "outputs": []
    },
    {
      "cell_type": "code",
      "source": [
        "# Display the shape\n",
        "df.shape"
      ],
      "metadata": {
        "id": "OKEIR3lVkAZu"
      },
      "execution_count": null,
      "outputs": []
    },
    {
      "cell_type": "code",
      "source": [
        "# Display total Column_names\n",
        "df.columns\n"
      ],
      "metadata": {
        "id": "KKEmZO7Vj729"
      },
      "execution_count": null,
      "outputs": []
    },
    {
      "cell_type": "code",
      "source": [
        "# Total Columns\n",
        "len(df.columns)"
      ],
      "metadata": {
        "id": "fO7s7AkEyuvl"
      },
      "execution_count": null,
      "outputs": []
    },
    {
      "cell_type": "code",
      "source": [
        "# Display max null rows\n",
        "pd.set_option('display.max_rows', None)\n",
        "df.isnull().sum()"
      ],
      "metadata": {
        "id": "L_6UeI25r8vc"
      },
      "execution_count": null,
      "outputs": []
    },
    {
      "cell_type": "code",
      "source": [
        "# Attribues in Consumer disputed\n",
        "df['Consumer disputed'].unique()\n"
      ],
      "metadata": {
        "id": "wi7rSCFVtSO2"
      },
      "execution_count": null,
      "outputs": []
    },
    {
      "cell_type": "code",
      "source": [
        "df['City'].unique()"
      ],
      "metadata": {
        "id": "S20xM-K8tgQ9"
      },
      "execution_count": null,
      "outputs": []
    },
    {
      "cell_type": "code",
      "source": [
        "df['Subcategory'].unique()"
      ],
      "metadata": {
        "id": "NZrpjz4mt28R"
      },
      "execution_count": null,
      "outputs": []
    },
    {
      "cell_type": "code",
      "source": [
        "df['Consumer disputed'].unique()"
      ],
      "metadata": {
        "id": "OERNie8AuPo4"
      },
      "execution_count": null,
      "outputs": []
    },
    {
      "cell_type": "code",
      "source": [
        "df['Company response to consumer'].unique()"
      ],
      "metadata": {
        "id": "njDB_Ze8uV91"
      },
      "execution_count": null,
      "outputs": []
    },
    {
      "cell_type": "code",
      "source": [
        "df['City'].unique()"
      ],
      "metadata": {
        "id": "LHOURqAMudK8"
      },
      "execution_count": null,
      "outputs": []
    },
    {
      "cell_type": "code",
      "source": [
        "df['State'].unique()"
      ],
      "metadata": {
        "id": "rIMQ2nKILC0u"
      },
      "execution_count": null,
      "outputs": []
    },
    {
      "cell_type": "code",
      "source": [
        "# count heads\n",
        "df['Consumer disputed'].value_counts().head(10)"
      ],
      "metadata": {
        "id": "2WwvBK7Yumnq"
      },
      "execution_count": null,
      "outputs": []
    },
    {
      "cell_type": "code",
      "source": [
        "df['Company response to consumer'].value_counts().head(10)"
      ],
      "metadata": {
        "id": "VZKabpcQvOBF"
      },
      "execution_count": null,
      "outputs": []
    },
    {
      "cell_type": "code",
      "source": [
        "df['Subcategory'].value_counts().head()"
      ],
      "metadata": {
        "id": "M0SY6a5tvTed"
      },
      "execution_count": null,
      "outputs": []
    },
    {
      "cell_type": "code",
      "source": [
        "df['State'].value_counts().head(10)"
      ],
      "metadata": {
        "id": "8sOSZY6pvXob"
      },
      "execution_count": null,
      "outputs": []
    },
    {
      "cell_type": "code",
      "source": [
        "# Replace nulls\n",
        "df= ps.handle_nulls( df, columns= 'Subcategory', action='replace', with_val='No action')\n",
        "df['Subcategory'].value_counts()"
      ],
      "metadata": {
        "id": "0yBAGFusvcDp"
      },
      "execution_count": null,
      "outputs": []
    },
    {
      "cell_type": "code",
      "source": [
        "df= ps.handle_nulls( df, columns= 'Consumer disputed', action='replace', with_val='No action')\n",
        "df['Consumer disputed'].value_counts()"
      ],
      "metadata": {
        "id": "zAQfCEdYI9ht"
      },
      "execution_count": null,
      "outputs": []
    },
    {
      "cell_type": "code",
      "source": [
        "\n",
        "# Remove null  values from essential columns and replace them with no action\n",
        "df= ps.handle_nulls( df, columns= 'Supporting comments', action='replace', with_val='No action')\n",
        "df['Supporting comments'].value_counts()"
      ],
      "metadata": {
        "id": "3Lr2xk44x9Vr"
      },
      "execution_count": null,
      "outputs": []
    },
    {
      "cell_type": "code",
      "source": [
        "# Display cleaned data info\n",
        "df.info()"
      ],
      "metadata": {
        "id": "sS1FM9e2o5x4"
      },
      "execution_count": null,
      "outputs": []
    },
    {
      "cell_type": "code",
      "source": [
        "# Fill missing values in specific columns\n",
        "df['Company response to consumer'].fillna('No response', inplace=True)\n",
        "df['Timely response'].fillna('Unknown', inplace=True)\n",
        "df['Consumer disputed'].fillna('Unknown', inplace=True)\n",
        "df['Company'].fillna('Unknown', inplace=True)\n",
        "df['State'].fillna('Unknown', inplace=True)\n",
        "df['ZIP code'].fillna('Unknown', inplace=True)\n",
        "df['Consumer disputed'].fillna('Unknown', inplace=True)\n",
        "df['Supporting comments'].fillna('No Comments', inplace=True)"
      ],
      "metadata": {
        "id": "b20JJM96yt0P"
      },
      "execution_count": null,
      "outputs": []
    },
    {
      "cell_type": "code",
      "source": [
        "df.info()"
      ],
      "metadata": {
        "id": "vltSU4smNZn_"
      },
      "execution_count": null,
      "outputs": []
    },
    {
      "cell_type": "code",
      "source": [
        "df = ps.remove(df, operation='duplicates', columns='Complaint ID', keep='first', inplace=True)"
      ],
      "metadata": {
        "id": "59bmqY_cNzJ3"
      },
      "execution_count": null,
      "outputs": []
    },
    {
      "cell_type": "code",
      "source": [
        "#check nulls\n",
        "print(df.isnull().sum())"
      ],
      "metadata": {
        "id": "F9Wf0cGrbhyv"
      },
      "execution_count": null,
      "outputs": []
    },
    {
      "cell_type": "code",
      "source": [
        "#no duplicates\n",
        "print(df.duplicated().sum())"
      ],
      "metadata": {
        "id": "CWa-KvbpqjjU"
      },
      "execution_count": null,
      "outputs": []
    },
    {
      "cell_type": "code",
      "source": [
        "#find statistical measures\n",
        "df['ZIP code'].mean()\n",
        "df['ZIP code'].median()\n",
        "df['ZIP code'].mode()\n",
        "df['ZIP code'].std()\n",
        "df['ZIP code'].var()\n",
        "df['ZIP code'].min()\n",
        "df['ZIP code'].max()\n",
        "df['ZIP code'].sum()\n",
        "df['ZIP code'].count()\n",
        "df['ZIP code'].describe()"
      ],
      "metadata": {
        "id": "4vTuw4sWL8Bh"
      },
      "execution_count": null,
      "outputs": []
    },
    {
      "cell_type": "code",
      "source": [
        "df.info()"
      ],
      "metadata": {
        "id": "a12sP2wnMME-"
      },
      "execution_count": null,
      "outputs": []
    },
    {
      "cell_type": "code",
      "source": [
        "# Handling outliers in the ZIP code column\n",
        "df = ps.handle_outliers(df, 'ZIP code', method='capping', threshold=95)\n"
      ],
      "metadata": {
        "id": "IjPZhK7AruuB"
      },
      "execution_count": null,
      "outputs": []
    },
    {
      "cell_type": "code",
      "source": [
        "# Standardizing city names to lowercase\n",
        "df = ps.standardize_case(df['City'], case='lower')\n"
      ],
      "metadata": {
        "id": "zIheVQqKr_1D"
      },
      "execution_count": null,
      "outputs": []
    },
    {
      "cell_type": "code",
      "source": [
        "# Export the cleaned dataset\n",
        "df.to_csv('Cleaned_Consumer_Complaints.csv', index=False)\n",
        "df.info()"
      ],
      "metadata": {
        "id": "zEmb0WVKs3XO"
      },
      "execution_count": null,
      "outputs": []
    },
    {
      "cell_type": "code",
      "source": [
        "df['City']=df['City']. map(str. lower)\n",
        "df['City']"
      ],
      "metadata": {
        "id": "L9Deg9O8ARQ-"
      },
      "execution_count": null,
      "outputs": []
    },
    {
      "cell_type": "code",
      "source": [
        "#change uppercase data to lowercase\n",
        "df['Subcategory']=df['Subcategory']. map(str. lower)\n",
        "df['Subcategory']"
      ],
      "metadata": {
        "id": "izVnLaPtUsqb"
      },
      "execution_count": null,
      "outputs": []
    },
    {
      "cell_type": "code",
      "source": [
        "# dateformat\n",
        "df['Date'] = pd.to_datetime(df['Date'])\n",
        "df['Date']\n"
      ],
      "metadata": {
        "id": "9WEnZwiIBwi4"
      },
      "execution_count": null,
      "outputs": []
    },
    {
      "cell_type": "code",
      "source": [],
      "metadata": {
        "id": "ljhc636iFSxL"
      },
      "execution_count": null,
      "outputs": []
    }
  ]
}